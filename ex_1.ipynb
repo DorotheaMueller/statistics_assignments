{
 "cells": [
  {
   "cell_type": "markdown",
   "metadata": {},
   "source": [
    "# Exercises"
   ]
  },
  {
   "cell_type": "markdown",
   "metadata": {},
   "source": [
    "## Configuration"
   ]
  },
  {
   "cell_type": "code",
   "execution_count": 1,
   "metadata": {},
   "outputs": [],
   "source": [
    "import numpy as np\n",
    "import matplotlib.pyplot as plt\n",
    "\n",
    "%matplotlib inline"
   ]
  },
  {
   "cell_type": "code",
   "execution_count": 2,
   "metadata": {},
   "outputs": [],
   "source": [
    "# For reproducability, fix seed.\n",
    "np.random.seed(42)"
   ]
  },
  {
   "cell_type": "markdown",
   "metadata": {},
   "source": [
    "## 1. Probability Spaces\n",
    "\n",
    "### 1. Dice Simulations"
   ]
  },
  {
   "cell_type": "code",
   "execution_count": 3,
   "metadata": {},
   "outputs": [],
   "source": [
    "mask_even = lambda x : x % 2 == 0 # with P(x is even) = 1/2\n",
    "mask_smaller_5 = lambda x : x <= 4 # with P(x <= 4) = 2/3\n",
    "mask_2_4 = lambda x : mask_even(x) & mask_smaller_5(x) # Intersection."
   ]
  },
  {
   "cell_type": "code",
   "execution_count": 4,
   "metadata": {},
   "outputs": [],
   "source": [
    "n = 1000\n",
    "dice_rolls = np.random.randint(1, 7, n)"
   ]
  },
  {
   "cell_type": "code",
   "execution_count": 5,
   "metadata": {},
   "outputs": [],
   "source": [
    "rolls_even = np.sum(mask_even(dice_rolls))/n\n",
    "rolls_smaller_5 = np.sum(mask_smaller_5(dice_rolls))/n\n",
    "rolls_2_4 = np.sum(mask_2_4(dice_rolls))/n"
   ]
  },
  {
   "cell_type": "code",
   "execution_count": 6,
   "metadata": {
    "scrolled": true
   },
   "outputs": [
    {
     "name": "stdout",
     "output_type": "stream",
     "text": [
      "P(x is even):0.493 \n",
      "P(x<5): 0.673\n",
      "P(x is even and x < 5): 0.331789 = 0.338\n"
     ]
    }
   ],
   "source": [
    "print(f\"P(x is even):{rolls_even} \\nP(x<5): {rolls_smaller_5}\")\n",
    "print(f\"P(x is even and x < 5): {rolls_even * rolls_smaller_5} = {rolls_2_4}\") "
   ]
  },
  {
   "cell_type": "markdown",
   "metadata": {},
   "source": [
    "### Two events not being independent.\n",
    "\n",
    "Let P(A) = P(x <= 3) and P(B) = P (x <= 2).\n",
    "\n",
    "Then P(A) = 1/2 and P(B) = 1/3.\n",
    "\n",
    "**Not independent:** P(A and B) != P(A) * P(B) as 1/3 != 1/2 * 1/3.\n",
    "\n",
    "P(A|B) = 1\n",
    "\n",
    "P(B|A) = 2/3\n"
   ]
  },
  {
   "cell_type": "code",
   "execution_count": 7,
   "metadata": {},
   "outputs": [],
   "source": [
    "mask_a = lambda x : x <= 3\n",
    "mask_b = lambda x : x <= 2\n",
    "mask_a_and_b = lambda x : mask_a(x) & mask_b(x)"
   ]
  },
  {
   "cell_type": "code",
   "execution_count": 8,
   "metadata": {},
   "outputs": [
    {
     "data": {
      "text/plain": [
       "array([6, 5, 6, 6, 4, 6, 3, 6, 6, 6, 1, 3, 3, 5, 4, 6, 2, 4, 4, 3, 4, 6,\n",
       "       6, 1, 6, 6, 3, 6, 1, 2, 3, 2, 3, 5, 4, 5, 6, 2, 6, 4, 3, 4, 1, 4,\n",
       "       1, 4, 1, 2, 6, 6, 5, 6, 3, 4, 5, 3, 3, 1, 6, 2, 2, 5, 2, 4, 2, 5,\n",
       "       2, 4, 1, 5, 1, 1, 1, 3, 6, 3, 6, 1, 5, 6, 4, 4, 2, 6, 5, 3, 1, 2,\n",
       "       4, 3, 3, 1, 6, 4, 5, 3, 1, 5, 6, 4])"
      ]
     },
     "execution_count": 8,
     "metadata": {},
     "output_type": "execute_result"
    }
   ],
   "source": [
    "n = 100\n",
    "dice_rolls = np.random.randint(1, 7, n)\n",
    "dice_rolls"
   ]
  },
  {
   "cell_type": "code",
   "execution_count": 9,
   "metadata": {},
   "outputs": [],
   "source": [
    "p_a = np.sum(mask_a(dice_rolls))/n\n",
    "p_b = np.sum(mask_b(dice_rolls))/n\n",
    "p_a_and_b = np.sum(mask_a_and_b(dice_rolls))/n"
   ]
  },
  {
   "cell_type": "code",
   "execution_count": 10,
   "metadata": {},
   "outputs": [
    {
     "name": "stdout",
     "output_type": "stream",
     "text": [
      "P(A):0.44 \n",
      "P(B): 0.27\n",
      "P(A and B): 0.27\n"
     ]
    }
   ],
   "source": [
    "print(f\"P(A):{p_a} \\nP(B): {p_b}\")\n",
    "print(f\"P(A and B): {p_a_and_b}\") "
   ]
  },
  {
   "cell_type": "code",
   "execution_count": 11,
   "metadata": {},
   "outputs": [],
   "source": [
    "b = dice_rolls[mask_b(dice_rolls)]\n",
    "n_b = len(b)\n",
    "p_a_given_b = np.sum(mask_a(b)) / n_b\n",
    "\n",
    "a = dice_rolls[mask_a(dice_rolls)]\n",
    "n_a = len(a)\n",
    "p_b_given_a = np.sum(mask_b(a)) / n_a"
   ]
  },
  {
   "cell_type": "code",
   "execution_count": 12,
   "metadata": {
    "scrolled": true
   },
   "outputs": [
    {
     "name": "stdout",
     "output_type": "stream",
     "text": [
      "P(A|B) = 1.0\n",
      "P(B|A) = 0.6136363636363636\n"
     ]
    }
   ],
   "source": [
    "print(f\"P(A|B) = {p_a_given_b}\")\n",
    "print(f\"P(B|A) = {p_b_given_a}\")"
   ]
  },
  {
   "cell_type": "markdown",
   "metadata": {},
   "source": [
    "These values are close to the analytical estimated ones, P(A|B) = 1 and P(B|A) = 2/3."
   ]
  },
  {
   "cell_type": "markdown",
   "metadata": {},
   "source": [
    "### 2. Coin tosses"
   ]
  },
  {
   "cell_type": "markdown",
   "metadata": {},
   "source": [
    "#### (1) Conditions."
   ]
  },
  {
   "cell_type": "code",
   "execution_count": 13,
   "metadata": {},
   "outputs": [],
   "source": [
    "n_tosses = 1000 # Needs to be even, as always two tosses are looked at.\n",
    "n_toss_pairs = n_tosses // 2 # Two tosses belong together.\n",
    "tosses = np.random.randint(0, 2, n_tosses)\n",
    "tosses = np.split(tosses, n_toss_pairs) \n",
    "# tosses"
   ]
  },
  {
   "cell_type": "markdown",
   "metadata": {},
   "source": [
    "Let 0 be heads."
   ]
  },
  {
   "cell_type": "code",
   "execution_count": 14,
   "metadata": {},
   "outputs": [],
   "source": [
    "mask_head_first_toss = lambda x : np.array([i[0] == 0 for i in x])\n",
    "mask_head_snd_toss = lambda x : np.array([i[1] == 0 for i in x])\n",
    "mask_same_outcome = lambda x : np.array([i[0] == i[1] for i in x])"
   ]
  },
  {
   "cell_type": "code",
   "execution_count": 15,
   "metadata": {},
   "outputs": [],
   "source": [
    "p_head_first_toss = np.sum(mask_head_first_toss(tosses))/n_toss_pairs\n",
    "p_head_snd_toss = np.sum(mask_head_snd_toss(tosses))/n_toss_pairs\n",
    "p_same_outcome = np.sum(mask_same_outcome(tosses))/n_toss_pairs"
   ]
  },
  {
   "cell_type": "code",
   "execution_count": 16,
   "metadata": {
    "scrolled": true
   },
   "outputs": [
    {
     "name": "stdout",
     "output_type": "stream",
     "text": [
      "P(head first toss) = 0.508 should be similar to 1/2\n",
      "P(head snd toss) = 0.55 should be similar to 1/2\n",
      "P(same outcome) = 0.47 should be similar to 1/2\n"
     ]
    }
   ],
   "source": [
    "print(f\"P(head first toss) = {p_head_first_toss} should be similar to 1/2\")\n",
    "print(f\"P(head snd toss) = {p_head_snd_toss} should be similar to 1/2\")\n",
    "print(f\"P(same outcome) = {p_same_outcome} should be similar to 1/2\")"
   ]
  },
  {
   "cell_type": "markdown",
   "metadata": {},
   "source": [
    "The simulated values match the analytical ones."
   ]
  },
  {
   "cell_type": "markdown",
   "metadata": {},
   "source": [
    "#### (2) Co-Occurences."
   ]
  },
  {
   "cell_type": "code",
   "execution_count": 17,
   "metadata": {},
   "outputs": [],
   "source": [
    "# Pair_wise\n",
    "mask_head_first_toss_same_outcome = lambda x : mask_head_first_toss(x) & mask_same_outcome(x)\n",
    "mask_head_snd_toss_same_outcome = lambda x : mask_head_snd_toss(x) & mask_same_outcome(x)\n",
    "mask_head_first_snd_toss = lambda x : mask_head_first_toss(x) & mask_head_snd_toss(x)\n",
    "mask_all_conditions = lambda x : mask_same_outcome(x) & mask_head_first_toss(x) & mask_head_snd_toss(x)"
   ]
  },
  {
   "cell_type": "code",
   "execution_count": 18,
   "metadata": {},
   "outputs": [],
   "source": [
    "p_head_first_toss_same_outcome = np.sum(mask_head_first_toss_same_outcome(tosses)) /n_toss_pairs\n",
    "p_head_snd_toss_same_outcome = np.sum(mask_head_snd_toss_same_outcome(tosses)) /n_toss_pairs\n",
    "p_head_first_snd_toss = np.sum(mask_head_first_snd_toss(tosses)) /n_toss_pairs\n",
    "p_all_cond = np.sum(mask_all_conditions(tosses)) /n_toss_pairs"
   ]
  },
  {
   "cell_type": "code",
   "execution_count": 19,
   "metadata": {},
   "outputs": [
    {
     "name": "stdout",
     "output_type": "stream",
     "text": [
      "P(first toss is head and same outcome) = 0.264\n",
      "P(snd toss is head and same outcome) = 0.264\n",
      "P(first and second toss is head) = 0.264\n",
      "P(first and second toss is head and the outcome is the same) = 0.264\n"
     ]
    }
   ],
   "source": [
    "print(f\"P(first toss is head and same outcome) = {p_head_first_toss_same_outcome}\")\n",
    "print(f\"P(snd toss is head and same outcome) = {p_head_snd_toss_same_outcome}\")\n",
    "print(f\"P(first and second toss is head) = {p_head_first_snd_toss}\")\n",
    "print(f\"P(first and second toss is head and the outcome is the same) = {p_all_cond}\")"
   ]
  },
  {
   "cell_type": "markdown",
   "metadata": {},
   "source": [
    "The simulated values look similar to the analytical ones (1/4)."
   ]
  },
  {
   "cell_type": "markdown",
   "metadata": {},
   "source": [
    "## 2. Random Variables\n",
    "\n",
    "### 1. Probability Mass and and Probability Density"
   ]
  },
  {
   "cell_type": "code",
   "execution_count": null,
   "metadata": {},
   "outputs": [],
   "source": [
    "The blue will always indicate the sampled"
   ]
  },
  {
   "cell_type": "code",
   "execution_count": 60,
   "metadata": {},
   "outputs": [
    {
     "data": {
      "image/png": "[encoded data removed]",
      "text/plain": [
       "<Figure size 720x360 with 4 Axes>"
      ]
     },
     "metadata": {
      "needs_background": "light"
     },
     "output_type": "display_data"
    }
   ],
   "source": [
    "# Bernoulli Random Variable.\n",
    "\n",
    "number_samples = [10, 100, 500, 1000]\n",
    "\n",
    "fig, axs = plt.subplots(nrows = 1, ncols = len(number_samples), sharey = True, sharex = True, figsize = (10, 5))\n",
    "axs = axs.ravel()\n",
    "\n",
    "for n, ax in zip(number_samples, axs):\n",
    "    throws = np.random.randint(0, 2, n)\n",
    "    \n",
    "    # Sampled function.\n",
    "    no, bins, _ = ax.hist(throws, density = True, stacked = True, bins = 10)\n",
    "    \n",
    "    # Reference function for bins = 10.\n",
    "    ax.vlines(0, 0, 5, color='r')\n",
    "    ax.vlines(1, 0, 5, color='r')\n",
    "\n",
    "    ax.set_title(f\"N = {n}\")\n",
    "    ax.set_xlabel(\"Bins\")\n",
    "        \n",
    "    ax.set_xticks([0, 1])\n",
    "\n",
    "axs[0].set_ylabel(\"(Relative) frequency\")\n",
    "plt.suptitle(\"Bernoulli Sampling\");"
   ]
  },
  {
   "cell_type": "code",
   "execution_count": 21,
   "metadata": {},
   "outputs": [
    {
     "data": {
      "image/png": "[encoded data removed]",
      "text/plain": [
       "<Figure size 1080x360 with 4 Axes>"
      ]
     },
     "metadata": {
      "needs_background": "light"
     },
     "output_type": "display_data"
    }
   ],
   "source": [
    "# Gaussian Variable.\n",
    "mu = 0\n",
    "sigma = 1\n",
    "\n",
    "# Parameters for reference values for distribution.\n",
    "all_ = np.linspace(-4, 4, 10000)\n",
    "ref_gaussian = lambda x : 1/(sigma * np.sqrt(2 * np.pi)) * np.exp( - (x - mu)**2 / (2 * sigma**2))\n",
    "\n",
    "fig, axs = plt.subplots(nrows = 1, ncols = len(number_samples), sharex = True, sharey = True, figsize = (15, 5))\n",
    "axs = axs.ravel()\n",
    "\n",
    "for n, ax, in zip(number_samples, axs):\n",
    "    var_gaussian = np.random.normal(mu, sigma, n)\n",
    "    \n",
    "    # Sampling.\n",
    "    ax.hist(var_gaussian, density = True, stacked = True)\n",
    "    \n",
    "    # Reference function.\n",
    "    ax.plot(all_, ref_gaussian(all_))\n",
    "    ax.set_title(f\"N = {n}\")\n",
    "    ax.set_xlabel(\"Bins\")\n",
    "\n",
    "axs[0].set_ylabel(\"(Relative) frequency\")\n",
    "\n",
    "plt.suptitle(\"Gaussian Sampling\");"
   ]
  },
  {
   "cell_type": "markdown",
   "metadata": {},
   "source": [
    "**Normalization of Histogram for Gaussian distribution**\n",
    "\n",
    "For the normalized histograms, the sum of all bins need to sum up to 1. This can achieved by calling his with density = True and setting stacked = True. \n",
    "For seeing what happens during the calls, see documentation for density in the matplotlib manual (https://matplotlib.org/3.1.1/api/_as_gen/matplotlib.pyplot.hist.html):\n",
    "\n",
    "\"If True, the first element of the return tuple will be the counts normalized to form a probability density, i.e., the area (or integral) under the histogram will sum to 1. This is achieved by dividing the count by the number of observations times the bin width and not dividing by the total number of observations. If stacked is also True, the sum of the histograms is normalized to 1.\""
   ]
  },
  {
   "cell_type": "markdown",
   "metadata": {},
   "source": [
    "**Observation**\n",
    "\n",
    "As expected, the approximation gets better the more samples we take."
   ]
  },
  {
   "cell_type": "markdown",
   "metadata": {},
   "source": [
    "## 2. Distributions for Beta and Gamma"
   ]
  },
  {
   "cell_type": "code",
   "execution_count": 22,
   "metadata": {},
   "outputs": [],
   "source": [
    "# Used for reference functions.\n",
    "from scipy.stats import beta as beta_fn\n",
    "from scipy.stats import gamma as gamma_fn"
   ]
  },
  {
   "cell_type": "markdown",
   "metadata": {},
   "source": [
    "### Beta."
   ]
  },
  {
   "cell_type": "code",
   "execution_count": 23,
   "metadata": {},
   "outputs": [],
   "source": [
    "# Parameters.\n",
    "alpha = 0.25\n",
    "beta = 0.5\n",
    "all_ = np.linspace(0, 1, 100)[1:]"
   ]
  },
  {
   "cell_type": "code",
   "execution_count": 24,
   "metadata": {},
   "outputs": [
    {
     "data": {
      "image/png": "[encoded data removed]",
      "text/plain": [
       "<Figure size 1080x360 with 4 Axes>"
      ]
     },
     "metadata": {
      "needs_background": "light"
     },
     "output_type": "display_data"
    }
   ],
   "source": [
    "fig, axs = plt.subplots(nrows = 1, ncols = len(number_samples), sharex = True, sharey = True, figsize = (15, 5))\n",
    "axs = axs.ravel()\n",
    "\n",
    "for n, ax, in zip(number_samples, axs):\n",
    "    var_beta = np.random.beta(alpha, beta, n)\n",
    "    \n",
    "    # Sampling.\n",
    "    ax.hist(var_beta, density = True, stacked = True)\n",
    "    \n",
    "    # Reference function.    \n",
    "    ax.plot(all_, beta_fn.pdf(all_, alpha, beta))\n",
    "    ax.set_title(f\"N = {n}\")\n",
    "    ax.set_xlabel(\"Bins\")\n",
    "\n",
    "axs[0].set_ylabel(\"(Relative) frequency\")\n",
    "\n",
    "plt.suptitle(\"Beta Sampling\");"
   ]
  },
  {
   "cell_type": "markdown",
   "metadata": {},
   "source": [
    "### Gamma."
   ]
  },
  {
   "cell_type": "code",
   "execution_count": 36,
   "metadata": {},
   "outputs": [],
   "source": [
    "# Parameters.\n",
    "a = 2\n",
    "all_ = np.linspace(0, 10, 1000)"
   ]
  },
  {
   "cell_type": "code",
   "execution_count": 37,
   "metadata": {},
   "outputs": [
    {
     "data": {
      "image/png": "[encoded data removed]",
      "text/plain": [
       "<Figure size 1080x360 with 4 Axes>"
      ]
     },
     "metadata": {
      "needs_background": "light"
     },
     "output_type": "display_data"
    }
   ],
   "source": [
    "fig, axs = plt.subplots(nrows = 1, ncols = len(number_samples), sharex = True, sharey = True, figsize = (15, 5))\n",
    "axs = axs.ravel()\n",
    "\n",
    "for n, ax, in zip(number_samples, axs):\n",
    "    var_gamma = np.random.gamma(a, size = n)\n",
    "    \n",
    "    # Sampling.\n",
    "    ax.hist(var_gamma, density = True, stacked = True)\n",
    "    \n",
    "    # Reference function.    \n",
    "    ax.plot(all_, gamma_fn.pdf(all_, a))\n",
    "    ax.set_title(f\"N = {n}\")\n",
    "    ax.set_xlabel(\"Bins\")\n",
    "\n",
    "axs[0].set_ylabel(\"(Relative) frequency\")\n",
    "plt.suptitle(\"Gamma Sampling\");"
   ]
  },
  {
   "cell_type": "markdown",
   "metadata": {},
   "source": [
    "**Observation**\n",
    "\n",
    "The better approximation with more samples also holds true for the gamma and beta distribution."
   ]
  },
  {
   "cell_type": "code",
   "execution_count": null,
   "metadata": {},
   "outputs": [],
   "source": []
  }
 ],
 "metadata": {
  "kernelspec": {
   "display_name": "Python 3",
   "language": "python",
   "name": "python3"
  },
  "language_info": {
   "codemirror_mode": {
    "name": "ipython",
    "version": 3
   },
   "file_extension": ".py",
   "mimetype": "text/x-python",
   "name": "python",
   "nbconvert_exporter": "python",
   "pygments_lexer": "ipython3",
   "version": "3.6.8"
  }
 },
 "nbformat": 4,
 "nbformat_minor": 2
}
