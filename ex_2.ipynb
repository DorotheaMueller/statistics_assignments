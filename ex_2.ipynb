{
 "cells": [
  {
   "cell_type": "markdown",
   "metadata": {},
   "source": [
    "# Exercises for Frequentist Inference "
   ]
  },
  {
   "cell_type": "markdown",
   "metadata": {},
   "source": [
    "## Configuration"
   ]
  },
  {
   "cell_type": "code",
   "execution_count": 1,
   "metadata": {},
   "outputs": [],
   "source": [
    "import numpy as np\n",
    "import matplotlib.pyplot as plt\n",
    "from numpy import random\n",
    "\n",
    "%matplotlib inline"
   ]
  },
  {
   "cell_type": "code",
   "execution_count": 2,
   "metadata": {},
   "outputs": [],
   "source": [
    "# For reproducibility, fix seed.\n",
    "np.random.seed(42)"
   ]
  },
  {
   "cell_type": "markdown",
   "metadata": {},
   "source": [
    "## 6. Foundations and Maximum Likelihood"
   ]
  },
  {
   "cell_type": "markdown",
   "metadata": {},
   "source": [
    "### 1. Fisher scoring algorithm for the maximum likelihood estimation"
   ]
  },
  {
   "cell_type": "markdown",
   "metadata": {},
   "source": [
    "**Analytical Results**\n",
    "\n",
    "The linear regression has the form of \n",
    "$y = b^{T}x + \\epsilon$ where the first element of the vector x is additionally added with a value of 1 to account for the intercept. The error is assumed to be distributed with \\~N(0, $\\sigma$). The regression can thus be rewritten as \\~N(XW, $\\sigma$). Expressed as a conditional probability density model, it becomes:\n",
    "\n",
    "\\begin{aligned}\n",
    "p(y∣x,\\theta)=(y∣μ(x),\\sigma^{2}(x)).\n",
    "\\end{aligned}\n",
    "\n",
    "Thus, taking the negative log-likelihood results in\n",
    "\\begin{aligned}\n",
    "NL(\\theta) &= -\\sum_{i=1}^{n}log p(y_{i} | x_{i}, \\theta) \\\\\n",
    "\\end{aligned}\n",
    "Thus, $\\hat{\\beta} = (X^{T}X)^{-1}X^{T}y$\n",
    "\n",
    "(See also https://medium.com/quick-code/maximum-likelihood-estimation-for-regression-65f9c99f815d and https://www.quantstart.com/articles/Maximum-Likelihood-Estimation-for-Linear-Regression for the derivation)."
   ]
  },
  {
   "cell_type": "markdown",
   "metadata": {},
   "source": [
    "**Data Generation**"
   ]
  },
  {
   "cell_type": "code",
   "execution_count": 3,
   "metadata": {},
   "outputs": [],
   "source": [
    "def generate_linear_relation(up_to, n, a, b):\n",
    "    \"\"\"\n",
    "    Generates x, y with a linear relation y = a*x + b + Gaussian noise.\n",
    "    \n",
    "    Args:\n",
    "        up_to: generates samples from 0 to up_to\n",
    "        n: number of sampled datapoints\n",
    "        a: slope\n",
    "        b: intercept\n",
    "        \n",
    "    Returns:\n",
    "        x, y\n",
    "    \"\"\"\n",
    "    data = np.zeros(shape = (up_to, 2))\n",
    "    for i, sample in enumerate(data):\n",
    "        y = a * i + b + np.random.normal(0, 10)\n",
    "        data[i, 0] = i\n",
    "        data[i, 1] = y\n",
    "    \n",
    "    idx = np.random.choice(data.shape[0], n, replace = False)\n",
    "    data = data[idx]\n",
    "    \n",
    "    return data[:, 0], data[:, 1]"
   ]
  },
  {
   "cell_type": "code",
   "execution_count": 4,
   "metadata": {},
   "outputs": [],
   "source": [
    "# Parameters for generation y = a*x + b\n",
    "np.random.seed(23)\n",
    "upper = 100\n",
    "n = 100\n",
    "a = 1\n",
    "b = 10\n",
    "x, y = generate_linear_relation(upper, n, a, b)\n",
    "X = np.vstack((x,y)).T"
   ]
  },
  {
   "cell_type": "code",
   "execution_count": 5,
   "metadata": {},
   "outputs": [
    {
     "data": {
      "text/plain": [
       "<matplotlib.collections.PathCollection at 0x7f4d04ed2e10>"
      ]
     },
     "execution_count": 5,
     "metadata": {},
     "output_type": "execute_result"
    },
    {
     "data": {
      "image/png": "[encoded data removed]",
      "text/plain": [
       "<Figure size 432x288 with 1 Axes>"
      ]
     },
     "metadata": {
      "needs_background": "light"
     },
     "output_type": "display_data"
    }
   ],
   "source": [
    "plt.scatter(x, y)"
   ]
  },
  {
   "cell_type": "code",
   "execution_count": 6,
   "metadata": {},
   "outputs": [
    {
     "data": {
      "text/plain": [
       "(2,)"
      ]
     },
     "execution_count": 6,
     "metadata": {},
     "output_type": "execute_result"
    }
   ],
   "source": [
    "# Ground truth.\n",
    "beta = np.linalg.inv(X.T@X)@X.T@y\n",
    "beta.shape"
   ]
  },
  {
   "cell_type": "code",
   "execution_count": 7,
   "metadata": {},
   "outputs": [
    {
     "data": {
      "text/plain": [
       "[<matplotlib.lines.Line2D at 0x7f4d04ec7ac8>]"
      ]
     },
     "execution_count": 7,
     "metadata": {},
     "output_type": "execute_result"
    },
    {
     "data": {
      "image/png": "[encoded data removed]",
      "text/plain": [
       "<Figure size 432x288 with 1 Axes>"
      ]
     },
     "metadata": {
      "needs_background": "light"
     },
     "output_type": "display_data"
    }
   ],
   "source": [
    "all_ = np.linspace(0, 100, 101)\n",
    "plt.scatter(x, y)\n",
    "plt.plot(all_, beta[1] * all_)\n",
    "\n",
    "### Q: the intercept is not correctly calculated?"
   ]
  },
  {
   "cell_type": "markdown",
   "metadata": {},
   "source": [
    "**Fisher Scoring Algorithm**"
   ]
  },
  {
   "cell_type": "markdown",
   "metadata": {},
   "source": [
    "As this exercise is too hard (as discussed in the tutorial), I will abort it at this point (and delete the fruitless approaches I did here). "
   ]
  },
  {
   "cell_type": "markdown",
   "metadata": {},
   "source": [
    "### 2. Numerical Maximum Likelihood for Bernoulli Random Variables"
   ]
  },
  {
   "cell_type": "markdown",
   "metadata": {},
   "source": [
    "The derivative for the log likelihood for the Bernoulli with $~B(\\mu)$ is:\n",
    "\n",
    "$ \\frac{\\delta} {\\delta \\mu} ln(x) = \\frac{1}{\\mu}\\sum_{i}^{n}x_{i}-\\frac{1}{1-\\mu}(n-\\sum_{i}^{n}x_{i})$\n",
    "\n",
    "and the second derivative is:\n",
    "\n",
    "$ \\frac{\\delta^{2}}{\\delta \\mu^{2}} ln(x) = -\\frac{1}{\\mu^{2}}\\sum_{i}^{n}x_{i}-\\frac{1}{(1-\\mu)^{2}}(n-\\sum_{i}^{n}x_{i})$.\n",
    "\n",
    "For optimization, we will use the Newton-Raphson method.\n"
   ]
  },
  {
   "cell_type": "code",
   "execution_count": 80,
   "metadata": {},
   "outputs": [],
   "source": [
    "def newton_raphson(data, n, theta):\n",
    "    all_thetas = []\n",
    "    all_thetas.append(theta) # Track initial condition.\n",
    "    \n",
    "    eps = 0.000001\n",
    "    f_1 = lambda x : (1/(x+eps)) * np.sum(data) - 1/(1-(x+eps)) * (n - np.sum(data))\n",
    "    f_2 = lambda x : -1/((x+eps)**2) * np.sum(data) - 1/((1-(x+eps))** 2) * (n - np.sum(data))\n",
    "    \n",
    "    stop = False\n",
    "    \n",
    "    # Also possible to use for approximation.\n",
    "#     while(not np.allclose(f_1(theta), 0, 0.0001)):\n",
    "    while(f_1(theta)!= 0):\n",
    "        \n",
    "        theta = theta - f_1(theta)/f_2(theta)\n",
    "        \n",
    "        # Bound theta to be probability.\n",
    "        if theta < 0:\n",
    "            theta = 0.0\n",
    "            stop = True\n",
    "        elif theta > 1:\n",
    "            theta = 1.0\n",
    "            stop = True\n",
    "            \n",
    "        all_thetas.append(theta)\n",
    "        if stop:\n",
    "            break\n",
    "    \n",
    "    return all_thetas"
   ]
  },
  {
   "cell_type": "code",
   "execution_count": 81,
   "metadata": {},
   "outputs": [],
   "source": [
    "n = 20\n",
    "all_mu = [0.7, 1.0]"
   ]
  },
  {
   "cell_type": "code",
   "execution_count": 82,
   "metadata": {},
   "outputs": [
    {
     "name": "stdout",
     "output_type": "stream",
     "text": [
      "For mu: 0.7\n",
      "Optimal parameter according to max. log likelihood: 0.65\n",
      "Optimal parameter according to Newton-Raphson: 0.649999\n"
     ]
    },
    {
     "data": {
      "image/png": "[encoded data removed]",
      "text/plain": [
       "<Figure size 1296x360 with 2 Axes>"
      ]
     },
     "metadata": {
      "needs_background": "light"
     },
     "output_type": "display_data"
    },
    {
     "name": "stdout",
     "output_type": "stream",
     "text": [
      "For mu: 1.0\n",
      "Optimal parameter according to max. log likelihood: 1.0\n",
      "Optimal parameter according to Newton-Raphson: 1.0\n"
     ]
    },
    {
     "data": {
      "image/png": "[encoded data removed]",
      "text/plain": [
       "<Figure size 1296x360 with 2 Axes>"
      ]
     },
     "metadata": {
      "needs_background": "light"
     },
     "output_type": "display_data"
    }
   ],
   "source": [
    "for mu in all_mu:\n",
    "    sample = np.random.binomial(1, mu, n)\n",
    "    initial_theta = np.random.random()\n",
    "    est_mu = newton_raphson(sample, n, initial_theta)\n",
    "    \n",
    "    # Likelihood estimation\n",
    "    eps = 0.0001 #For not diving by 0.\n",
    "    f = lambda x : np.log(x+eps) * np.sum(sample) + np.log(1-x+eps) * (n - np.sum(sample))\n",
    "    thetas = np.linspace(0, 1, 101)\n",
    "    \n",
    "    # Plotting.\n",
    "    fig, axs = plt.subplots(1, 2, figsize =(18, 5))\n",
    "    \n",
    "    axs[0].plot(thetas, f(thetas))\n",
    "    axs[0].set_title(\"Log likelihood function $\\mu_{MLE}$ of Bernoulli distribution\")\n",
    "    axs[0].set_xlabel(\"$\\mu$\")\n",
    "    axs[0].set_ylabel(\"Log likelihood\")\n",
    "    theta_star = np.argmax(f(thetas))\n",
    "    axs[0].scatter(np.array(theta_star/100), np.array(f(theta_star/100)))\n",
    "    \n",
    "    print(f\"For mu: {mu}\")\n",
    "    print(f\"Optimal parameter according to max. log likelihood: {theta_star/100}\")\n",
    "    print(f\"Optimal parameter according to Newton-Raphson: {est_mu[-1]}\")\n",
    "    \n",
    "    # Show convergence.\n",
    "    axs[1].plot(est_mu, label = 'Estimate')\n",
    "    axs[1].set_xlabel('Iterations')\n",
    "    axs[1].set_ylabel('Value')\n",
    "    axs[1].set_title('Convergence with Newton-Raphson $\\mu_{MLE}$ of Bernoulli distribution')\n",
    "    axs[1].axhline(mu, linestyle = 'dashed', label = 'Parameter Used for Sampling')\n",
    "    axs[1].legend()\n",
    "    plt.show();"
   ]
  },
  {
   "cell_type": "markdown",
   "metadata": {},
   "source": [
    "**Interpretation**\n",
    "\n",
    "The Netwon-Raphson method converges to the maximum $\\mu$ value of the log liklihood function. As the sample size is small, this is not necessarily the $\\mu$ with which is sampled."
   ]
  },
  {
   "cell_type": "markdown",
   "metadata": {},
   "source": [
    "### 3. "
   ]
  },
  {
   "cell_type": "code",
   "execution_count": null,
   "metadata": {},
   "outputs": [],
   "source": [
    "## TODO: it should look like a normal distribution histogram"
   ]
  },
  {
   "cell_type": "markdown",
   "metadata": {},
   "source": [
    "## 7. Finite-sample estimator"
   ]
  },
  {
   "cell_type": "markdown",
   "metadata": {},
   "source": [
    "### 1. (Un-)biasedness for Normal Distribution"
   ]
  },
  {
   "cell_type": "code",
   "execution_count": null,
   "metadata": {},
   "outputs": [],
   "source": [
    "n = 100\n",
    "mean_ = 0\n",
    "std_dev = 10\n",
    "var = std_dev ** 2\n",
    "sample = np.random.normal(mean_, std_dev, n)"
   ]
  },
  {
   "cell_type": "code",
   "execution_count": null,
   "metadata": {},
   "outputs": [],
   "source": [
    "all_means = np.zeros(n)\n",
    "all_var = np.zeros(n)\n",
    "all_std_dev = np.zeros(n)\n",
    "\n",
    "for i in range(2, n):\n",
    "    all_means[i] = np.mean(sample[:i])\n",
    "    all_var[i] = np.var(sample[:i], ddof=1)\n",
    "    all_std_dev[i] = np.std(sample[:i], ddof=1)"
   ]
  },
  {
   "cell_type": "code",
   "execution_count": null,
   "metadata": {},
   "outputs": [],
   "source": [
    "plt.plot(all_means, label = 'Empirical Mean')\n",
    "plt.plot(all_var, label = 'Empirical Variance')\n",
    "plt.plot(all_std_dev, label = 'Empirical Std Dev')\n",
    "plt.xlabel(\"Number of Samples\")\n",
    "plt.ylabel(\"Values\")\n",
    "plt.axhline(mean_, color='blue', linestyle='dashed', linewidth=1, label = 'Theoretical Mean')\n",
    "plt.axhline(std_dev, color = 'green', linestyle='dashed', linewidth=1, label = 'Theoretical Standard Deviation')\n",
    "plt.axhline(var, color = 'red', linestyle='dashed', linewidth=1, label = 'Theoretical Variance')\n",
    "\n",
    "plt.legend(loc='center left', bbox_to_anchor=(1, 0.5))\n",
    "plt.title(f\"Convergence of Estimators\");"
   ]
  },
  {
   "cell_type": "code",
   "execution_count": null,
   "metadata": {},
   "outputs": [],
   "source": [
    "from_ = 1\n",
    "plt.plot(all_means[from_:] - mean_, label = 'Empirical Mean')\n",
    "plt.plot(all_var[from_:] - var, label = 'Empirical Variance')\n",
    "plt.plot(all_std_dev[from_:] - std_dev, label = 'Empirical Std Dev')\n",
    "plt.xlabel(\"Number of Samples\")\n",
    "plt.ylabel(\"Bias\")\n",
    "plt.axhline(0, color='blue', linestyle='dashed', linewidth=1, label = 'No bias')\n",
    "\n",
    "plt.legend(loc='center left', bbox_to_anchor=(1, 0.5))\n",
    "plt.title(f\"(Un-)biasedness of Estimators\");"
   ]
  },
  {
   "cell_type": "code",
   "execution_count": null,
   "metadata": {},
   "outputs": [],
   "source": [
    "print(f\"Mean true: {mean_}, empirical: {all_means[-1]}\\nVar true {var}, empirical {all_var[-1]}\\n\" \\\n",
    "      f\"Std Dev true {std_dev}, empirical {all_std_dev[-1]}\")"
   ]
  },
  {
   "cell_type": "markdown",
   "metadata": {},
   "source": [
    "The bias is not clearly visible in the data, so maybe taking a larger sample size might reduce the noise and show the bias more clearly:"
   ]
  },
  {
   "cell_type": "code",
   "execution_count": null,
   "metadata": {},
   "outputs": [],
   "source": [
    "n = 10000000\n",
    "mean_ = 0\n",
    "std_dev = 10\n",
    "var = std_dev ** 2\n",
    "sample = np.random.normal(mean_, std_dev, n)"
   ]
  },
  {
   "cell_type": "code",
   "execution_count": null,
   "metadata": {},
   "outputs": [],
   "source": [
    "mean_emp = np.mean(sample)\n",
    "# Provide degrees of freedom to get to 1/n-1\n",
    "var_emp = np.var(sample, ddof=1)\n",
    "std_dev_emp = np.std(sample, ddof=1)"
   ]
  },
  {
   "cell_type": "code",
   "execution_count": null,
   "metadata": {},
   "outputs": [],
   "source": [
    "print(f\"Mean true: {mean_}, empirical: {mean_emp}\\nVar true {var}, empirical {var_emp}\\n\" \\\n",
    "      f\"Std Dev true {std_dev}, empirical {std_dev_emp}\")"
   ]
  },
  {
   "cell_type": "code",
   "execution_count": null,
   "metadata": {},
   "outputs": [],
   "source": [
    "print(f\"Mean true: {mean_/mean_emp}\\nVar {var/var_emp}\\n\" \\\n",
    "      f\"Std Dev {std_dev/std_dev_emp}\")"
   ]
  },
  {
   "cell_type": "markdown",
   "metadata": {},
   "source": [
    "Although we expected the standard deviation to be biased and the variance to not be biased, it was not possible to show this."
   ]
  },
  {
   "cell_type": "code",
   "execution_count": null,
   "metadata": {},
   "outputs": [],
   "source": [
    "# TODO: TODO: biasednessofthemaximumlikeliho o dvarianceparameterestimator"
   ]
  },
  {
   "cell_type": "markdown",
   "metadata": {},
   "source": [
    "### 2. (Un-)Biasedness for Binomial Distribution"
   ]
  },
  {
   "cell_type": "code",
   "execution_count": null,
   "metadata": {},
   "outputs": [],
   "source": []
  }
 ],
 "metadata": {
  "kernelspec": {
   "display_name": "Python 3",
   "language": "python",
   "name": "python3"
  },
  "language_info": {
   "codemirror_mode": {
    "name": "ipython",
    "version": 3
   },
   "file_extension": ".py",
   "mimetype": "text/x-python",
   "name": "python",
   "nbconvert_exporter": "python",
   "pygments_lexer": "ipython3",
   "version": "3.6.9"
  }
 },
 "nbformat": 4,
 "nbformat_minor": 2
}
